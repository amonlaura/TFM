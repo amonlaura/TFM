{
 "cells": [
  {
   "cell_type": "markdown",
   "metadata": {},
   "source": [
    "# A Data Science Project: Wine Recommender System"
   ]
  },
  {
   "cell_type": "markdown",
   "metadata": {},
   "source": [
    "                                                                          Laura Álvarez Mon, Junio 2019"
   ]
  },
  {
   "cell_type": "markdown",
   "metadata": {},
   "source": [
    "This project includes the following phases:\n",
    "- Business understanding\n",
    "- Data acquisition\n",
    "- Data preparation\n",
    "- Modeling\n",
    "- Evalutation"
   ]
  },
  {
   "cell_type": "markdown",
   "metadata": {},
   "source": [
    "<img src=https://www.sv-europe.com/wp-content/uploads/2013/12/newcrispdiagram.gif style=\"width:300px;height:300px\"/>"
   ]
  },
  {
   "cell_type": "markdown",
   "metadata": {},
   "source": [
    "## 1. Business understanding"
   ]
  },
  {
   "cell_type": "markdown",
   "metadata": {},
   "source": [
    "The goal is to build a wine recommender system."
   ]
  },
  {
   "cell_type": "markdown",
   "metadata": {},
   "source": [
    "### Install and import libraries"
   ]
  },
  {
   "cell_type": "markdown",
   "metadata": {},
   "source": [
    "We decide to use Python for our project."
   ]
  },
  {
   "cell_type": "markdown",
   "metadata": {},
   "source": [
    "Before starting, we install and import the libraries that we will need."
   ]
  },
  {
   "cell_type": "code",
   "execution_count": 272,
   "metadata": {},
   "outputs": [],
   "source": [
    "#!pip install fuzzywuzzy"
   ]
  },
  {
   "cell_type": "code",
   "execution_count": 273,
   "metadata": {},
   "outputs": [],
   "source": [
    "#!pip install beautifulsoup4"
   ]
  },
  {
   "cell_type": "code",
   "execution_count": 274,
   "metadata": {},
   "outputs": [],
   "source": [
    "import numpy as np\n",
    "import pandas as pd\n",
    "import matplotlib.pyplot as plt\n",
    "import requests\n",
    "import urllib.request\n",
    "import time\n",
    "import re\n",
    "from bs4 import BeautifulSoup\n",
    "from sklearn.feature_extraction.text import CountVectorizer\n",
    "from fuzzywuzzy import fuzz\n",
    "from fuzzywuzzy import process"
   ]
  },
  {
   "cell_type": "markdown",
   "metadata": {},
   "source": [
    "## 2. Data acquisition"
   ]
  },
  {
   "cell_type": "markdown",
   "metadata": {},
   "source": [
    "The first phase is 'Data acquisition'.\n",
    "We extract the data from the website 'https://labodega.consum.es' using BeautifulSoup."
   ]
  },
  {
   "cell_type": "markdown",
   "metadata": {},
   "source": [
    "Beautiful Soup is a Python package for parsing HTML and XML documents. It creates a parse tree for parsed pages that can be used to extract data from HTML, which is useful for web scraping."
   ]
  },
  {
   "cell_type": "markdown",
   "metadata": {},
   "source": [
    "This is the process followed:\n",
    "- Create a DataFrame called 'links'.\n",
    "- Create a DataFrame called 'wines'.\n",
    "\n",
    "LINKS:\n",
    "- Set the URL with all the wines: 'catalog_link', connect to the URL, parse HTML and save BeautifulSoup object.\n",
    "- Download data 'product_link' and 'image_link'.\n",
    "- Download images and save them in the folder 'Images'.\n",
    "- Write the DataFrame 'links'.\n",
    "\n",
    "WINES:\n",
    "- Set the URL with each wine: 'product_link' saved in 'links', connect to the URL, parse HTML and save BeautifulSoup object.\n",
    "- Download data 'Wine_Id', 'Name', 'Type', 'DO', 'Size', 'Grape', 'Ageing', 'Sight', 'Smell', 'Taste' and 'Pairing'.\n",
    "- Write the DataFrame 'wines'."
   ]
  },
  {
   "cell_type": "code",
   "execution_count": 275,
   "metadata": {},
   "outputs": [],
   "source": [
    "links = pd.DataFrame(columns =('Wine_Id', 'product_link', 'image_link'))\n",
    "wines = pd.DataFrame(columns =('Wine_Id', 'Name', 'Type', 'DO', 'Size', 'Grape', 'Ageing', 'Sight', 'Smell', 'Taste', 'Pairing'))\n",
    "\n",
    "# LINKS:\n",
    "\n",
    "link = 'https://labodega.consum.es' \n",
    "\n",
    "# Set the URL to webscrape from\n",
    "catalog_link = link + '/catalogo'\n",
    "\n",
    "# Connect to the URL\n",
    "response = requests.get(catalog_link)\n",
    "\n",
    "# Parse HTML and save to BeautifulSoup object¶\n",
    "soup = BeautifulSoup(response.text, \"html.parser\")\n",
    "\n",
    "# Download data\n",
    "\n",
    "i = 0\n",
    "\n",
    "Prods = soup.findAll('div', attrs={'class' : 'winebox__image'})\n",
    "\n",
    "for prod in Prods:\n",
    "    \n",
    "    # product_link\n",
    "    product_link = link + prod.find('a')['href']\n",
    "    \n",
    "    # image_link\n",
    "    image_name = str(i) + '_' + prod.find('img')['alt']\n",
    "    image_link = link + prod.find('img')['data-src']\n",
    "    \n",
    "    with open('./Images/'+image_name+'.png', 'wb') as img_handle:\n",
    "        img_data = requests.get(image_link)\n",
    "        img_handle.write(img_data.content)\n",
    "        \n",
    "    # write dataframe\n",
    "    links.loc[i] = (i , product_link, image_link)   \n",
    "\n",
    "    # WINES:\n",
    "    \n",
    "    # Connect to the URL\n",
    "    response = requests.get(product_link)\n",
    "\n",
    "    # Parse HTML and save to BeautifulSoup object¶\n",
    "    soup = BeautifulSoup(response.text, \"html.parser\")\n",
    "    \n",
    "    # Download data and write dataframe\n",
    "\n",
    "    wines.loc[i, 'Wine_Id'] = i\n",
    "    \n",
    "    wines.loc[i, 'Name'] = soup.findAll('div', {'class': 'wine-big-photo'})[0].find('img')['alt'] # name\n",
    "\n",
    "    wines.loc[i, 'Type'] = soup.findAll('img', attrs={'class' : 'product-ico__type'})[0]['alt'] # type\n",
    "    \n",
    "    DO = soup.findAll('a', attrs={'class' : 'wine-pre'}) # DO\n",
    "    if len(DO) == 0:\n",
    "        wines.loc[i, 'DO'] = None\n",
    "    else: \n",
    "        wines.loc[i, 'DO'] = DO[0].getText() \n",
    "\n",
    "    wines.loc[i, 'Size'] = soup.findAll('span', {'class': 'product-ico__size'})[0].getText() # size\n",
    "\n",
    "    grapes = soup.findAll('a', attrs={'class' : 'button-tag'}) # grape\n",
    "    for j in range(0,len(grapes)):\n",
    "        if j == 0:\n",
    "            Str = grapes[j].getText()\n",
    "        else:\n",
    "            Str = Str + ',' + grapes[j].getText()\n",
    "    wines.loc[i, 'Grape'] = Str\n",
    "\n",
    "    Props = soup.findAll('div', attrs={'class' : 'wine-tag-row'}) # props\n",
    "    wines.loc[i, ['Ageing', 'Sight', 'Smell', 'Taste', 'Pairing']] = [Props[0].find('dd').getText(),Props[1].find('dd').getText(),Props[2].find('dd').getText(),Props[3].find('dd').getText(),Props[4].find('dd').getText()]\n",
    "\n",
    "    i = i + 1\n",
    "    \n",
    "time.sleep(1) # pause the code for a sec"
   ]
  },
  {
   "cell_type": "markdown",
   "metadata": {},
   "source": [
    "- Visualize data"
   ]
  },
  {
   "cell_type": "code",
   "execution_count": 276,
   "metadata": {},
   "outputs": [
    {
     "data": {
      "text/html": [
       "<div>\n",
       "<style scoped>\n",
       "    .dataframe tbody tr th:only-of-type {\n",
       "        vertical-align: middle;\n",
       "    }\n",
       "\n",
       "    .dataframe tbody tr th {\n",
       "        vertical-align: top;\n",
       "    }\n",
       "\n",
       "    .dataframe thead th {\n",
       "        text-align: right;\n",
       "    }\n",
       "</style>\n",
       "<table border=\"1\" class=\"dataframe\">\n",
       "  <thead>\n",
       "    <tr style=\"text-align: right;\">\n",
       "      <th></th>\n",
       "      <th>Wine_Id</th>\n",
       "      <th>product_link</th>\n",
       "      <th>image_link</th>\n",
       "    </tr>\n",
       "  </thead>\n",
       "  <tbody>\n",
       "    <tr>\n",
       "      <th>0</th>\n",
       "      <td>0</td>\n",
       "      <td>https://labodega.consum.es/montesierra</td>\n",
       "      <td>https://labodega.consum.es/public/Image/2017/1...</td>\n",
       "    </tr>\n",
       "    <tr>\n",
       "      <th>1</th>\n",
       "      <td>1</td>\n",
       "      <td>https://labodega.consum.es/tintos/faustinovii-...</td>\n",
       "      <td>https://labodega.consum.es/public/Image/2018/3...</td>\n",
       "    </tr>\n",
       "    <tr>\n",
       "      <th>2</th>\n",
       "      <td>2</td>\n",
       "      <td>https://labodega.consum.es/tintos/claretdetard...</td>\n",
       "      <td>https://labodega.consum.es/public/Image/2018/3...</td>\n",
       "    </tr>\n",
       "  </tbody>\n",
       "</table>\n",
       "</div>"
      ],
      "text/plain": [
       "  Wine_Id                                       product_link  \\\n",
       "0       0             https://labodega.consum.es/montesierra   \n",
       "1       1  https://labodega.consum.es/tintos/faustinovii-...   \n",
       "2       2  https://labodega.consum.es/tintos/claretdetard...   \n",
       "\n",
       "                                          image_link  \n",
       "0  https://labodega.consum.es/public/Image/2017/1...  \n",
       "1  https://labodega.consum.es/public/Image/2018/3...  \n",
       "2  https://labodega.consum.es/public/Image/2018/3...  "
      ]
     },
     "execution_count": 276,
     "metadata": {},
     "output_type": "execute_result"
    }
   ],
   "source": [
    "links.head(3)"
   ]
  },
  {
   "cell_type": "code",
   "execution_count": 277,
   "metadata": {},
   "outputs": [
    {
     "data": {
      "text/html": [
       "<div>\n",
       "<style scoped>\n",
       "    .dataframe tbody tr th:only-of-type {\n",
       "        vertical-align: middle;\n",
       "    }\n",
       "\n",
       "    .dataframe tbody tr th {\n",
       "        vertical-align: top;\n",
       "    }\n",
       "\n",
       "    .dataframe thead th {\n",
       "        text-align: right;\n",
       "    }\n",
       "</style>\n",
       "<table border=\"1\" class=\"dataframe\">\n",
       "  <thead>\n",
       "    <tr style=\"text-align: right;\">\n",
       "      <th></th>\n",
       "      <th>Wine_Id</th>\n",
       "      <th>Name</th>\n",
       "      <th>Type</th>\n",
       "      <th>DO</th>\n",
       "      <th>Size</th>\n",
       "      <th>Grape</th>\n",
       "      <th>Ageing</th>\n",
       "      <th>Sight</th>\n",
       "      <th>Smell</th>\n",
       "      <th>Taste</th>\n",
       "      <th>Pairing</th>\n",
       "    </tr>\n",
       "  </thead>\n",
       "  <tbody>\n",
       "    <tr>\n",
       "      <th>0</th>\n",
       "      <td>0</td>\n",
       "      <td>Montesierra</td>\n",
       "      <td>Tintos</td>\n",
       "      <td>D.O Somontano</td>\n",
       "      <td></td>\n",
       "      <td>Cabernet sauvignon,Merlot,Tempranillo</td>\n",
       "      <td>Sin crianza</td>\n",
       "      <td>Cereza picota</td>\n",
       "      <td>Aroma frescos a grosella negra, cerezas y menta</td>\n",
       "      <td>Carnoso, jugoso y con mucho sabor</td>\n",
       "      <td>Pastas, legumbres, tapas, quesos y embutidos</td>\n",
       "    </tr>\n",
       "    <tr>\n",
       "      <th>1</th>\n",
       "      <td>1</td>\n",
       "      <td>Vino Faustino VII</td>\n",
       "      <td>Tintos</td>\n",
       "      <td>D.O Rioja</td>\n",
       "      <td>0,187L</td>\n",
       "      <td>Tempranillo</td>\n",
       "      <td>6 meses en barrica de roble americano</td>\n",
       "      <td>Rojo picota brillante con evolución a granate</td>\n",
       "      <td>Agradable, frutos rojos y toque dulce por el p...</td>\n",
       "      <td>Fresco y elegante, notas frutales y barrica</td>\n",
       "      <td>Carnes, patatas a la brasa, pescados y marisco...</td>\n",
       "    </tr>\n",
       "    <tr>\n",
       "      <th>2</th>\n",
       "      <td>2</td>\n",
       "      <td>Vino Claret de Tardor</td>\n",
       "      <td>Tintos</td>\n",
       "      <td>D.O Empordà</td>\n",
       "      <td>0,75L</td>\n",
       "      <td>Cabernet sauvignon,Garnacha</td>\n",
       "      <td>Sin crianza</td>\n",
       "      <td>Rojo guinda brillante con reflejos violáceos</td>\n",
       "      <td>Fruta roja y aromas de crianza</td>\n",
       "      <td>Ligero, agradable y equilibrado con acidez ref...</td>\n",
       "      <td>Arroces, entrantes, pastas, jamón, embutidos</td>\n",
       "    </tr>\n",
       "  </tbody>\n",
       "</table>\n",
       "</div>"
      ],
      "text/plain": [
       "  Wine_Id                   Name    Type             DO    Size  \\\n",
       "0       0            Montesierra  Tintos  D.O Somontano           \n",
       "1       1      Vino Faustino VII  Tintos      D.O Rioja  0,187L   \n",
       "2       2  Vino Claret de Tardor  Tintos    D.O Empordà   0,75L   \n",
       "\n",
       "                                   Grape  \\\n",
       "0  Cabernet sauvignon,Merlot,Tempranillo   \n",
       "1                            Tempranillo   \n",
       "2            Cabernet sauvignon,Garnacha   \n",
       "\n",
       "                                  Ageing  \\\n",
       "0                            Sin crianza   \n",
       "1  6 meses en barrica de roble americano   \n",
       "2                            Sin crianza   \n",
       "\n",
       "                                           Sight  \\\n",
       "0                                  Cereza picota   \n",
       "1  Rojo picota brillante con evolución a granate   \n",
       "2   Rojo guinda brillante con reflejos violáceos   \n",
       "\n",
       "                                               Smell  \\\n",
       "0    Aroma frescos a grosella negra, cerezas y menta   \n",
       "1  Agradable, frutos rojos y toque dulce por el p...   \n",
       "2                     Fruta roja y aromas de crianza   \n",
       "\n",
       "                                               Taste  \\\n",
       "0                  Carnoso, jugoso y con mucho sabor   \n",
       "1        Fresco y elegante, notas frutales y barrica   \n",
       "2  Ligero, agradable y equilibrado con acidez ref...   \n",
       "\n",
       "                                             Pairing  \n",
       "0       Pastas, legumbres, tapas, quesos y embutidos  \n",
       "1  Carnes, patatas a la brasa, pescados y marisco...  \n",
       "2       Arroces, entrantes, pastas, jamón, embutidos  "
      ]
     },
     "execution_count": 277,
     "metadata": {},
     "output_type": "execute_result"
    }
   ],
   "source": [
    "wines.head(3)"
   ]
  },
  {
   "cell_type": "markdown",
   "metadata": {},
   "source": [
    "- Export data to csv"
   ]
  },
  {
   "cell_type": "code",
   "execution_count": 278,
   "metadata": {},
   "outputs": [],
   "source": [
    "links.to_csv('./Data/Links.csv', index = False)\n",
    "wines.to_csv('./Data/Wines.csv', index = False)"
   ]
  },
  {
   "cell_type": "markdown",
   "metadata": {},
   "source": [
    "- Read data from csv"
   ]
  },
  {
   "cell_type": "code",
   "execution_count": 279,
   "metadata": {},
   "outputs": [],
   "source": [
    "links = pd.read_csv('./Data/Links.csv', usecols=['Wine_Id', 'product_link', 'image_link'])\n",
    "wines = pd.read_csv('./Data/Wines.csv',\n",
    "                    usecols=['Wine_Id','Name','Type','DO','Grape','Ageing','Sight','Smell','Taste','Pairing'])"
   ]
  },
  {
   "cell_type": "markdown",
   "metadata": {},
   "source": [
    "## 3. Data understanding"
   ]
  },
  {
   "cell_type": "markdown",
   "metadata": {},
   "source": [
    "### DataFrame links"
   ]
  },
  {
   "cell_type": "code",
   "execution_count": 280,
   "metadata": {},
   "outputs": [
    {
     "name": "stdout",
     "output_type": "stream",
     "text": [
      "The data product_link is the URL of the wine.\n",
      "https://labodega.consum.es/montesierra\n",
      "The data image_link is the URL of the image.\n",
      "https://labodega.consum.es/public/Image/2017/10/7298821.png_normal.jpg\n"
     ]
    }
   ],
   "source": [
    "print('The data product_link is the URL of the wine.')\n",
    "print(links.iloc[0]['product_link'])\n",
    "print('The data image_link is the URL of the image.')\n",
    "print(links.iloc[0]['image_link'])"
   ]
  },
  {
   "cell_type": "markdown",
   "metadata": {},
   "source": [
    "### DataFrame wines"
   ]
  },
  {
   "cell_type": "code",
   "execution_count": 281,
   "metadata": {},
   "outputs": [
    {
     "data": {
      "text/html": [
       "<div>\n",
       "<style scoped>\n",
       "    .dataframe tbody tr th:only-of-type {\n",
       "        vertical-align: middle;\n",
       "    }\n",
       "\n",
       "    .dataframe tbody tr th {\n",
       "        vertical-align: top;\n",
       "    }\n",
       "\n",
       "    .dataframe thead th {\n",
       "        text-align: right;\n",
       "    }\n",
       "</style>\n",
       "<table border=\"1\" class=\"dataframe\">\n",
       "  <thead>\n",
       "    <tr style=\"text-align: right;\">\n",
       "      <th></th>\n",
       "      <th>Wine_Id</th>\n",
       "      <th>Name</th>\n",
       "      <th>Type</th>\n",
       "      <th>DO</th>\n",
       "      <th>Grape</th>\n",
       "      <th>Ageing</th>\n",
       "      <th>Sight</th>\n",
       "      <th>Smell</th>\n",
       "      <th>Taste</th>\n",
       "      <th>Pairing</th>\n",
       "    </tr>\n",
       "  </thead>\n",
       "  <tbody>\n",
       "    <tr>\n",
       "      <th>0</th>\n",
       "      <td>0</td>\n",
       "      <td>Montesierra</td>\n",
       "      <td>Tintos</td>\n",
       "      <td>D.O Somontano</td>\n",
       "      <td>Cabernet sauvignon,Merlot,Tempranillo</td>\n",
       "      <td>Sin crianza</td>\n",
       "      <td>Cereza picota</td>\n",
       "      <td>Aroma frescos a grosella negra, cerezas y menta</td>\n",
       "      <td>Carnoso, jugoso y con mucho sabor</td>\n",
       "      <td>Pastas, legumbres, tapas, quesos y embutidos</td>\n",
       "    </tr>\n",
       "  </tbody>\n",
       "</table>\n",
       "</div>"
      ],
      "text/plain": [
       "   Wine_Id         Name    Type             DO  \\\n",
       "0        0  Montesierra  Tintos  D.O Somontano   \n",
       "\n",
       "                                   Grape       Ageing          Sight  \\\n",
       "0  Cabernet sauvignon,Merlot,Tempranillo  Sin crianza  Cereza picota   \n",
       "\n",
       "                                             Smell  \\\n",
       "0  Aroma frescos a grosella negra, cerezas y menta   \n",
       "\n",
       "                               Taste  \\\n",
       "0  Carnoso, jugoso y con mucho sabor   \n",
       "\n",
       "                                        Pairing  \n",
       "0  Pastas, legumbres, tapas, quesos y embutidos  "
      ]
     },
     "execution_count": 281,
     "metadata": {},
     "output_type": "execute_result"
    }
   ],
   "source": [
    "wines[0:1]"
   ]
  },
  {
   "cell_type": "markdown",
   "metadata": {},
   "source": [
    "## 4. Data preparation"
   ]
  },
  {
   "cell_type": "markdown",
   "metadata": {},
   "source": [
    "We have a dataframe with the properties of the wines, but we need to transform these properties into categorical."
   ]
  },
  {
   "cell_type": "markdown",
   "metadata": {},
   "source": [
    "This transformation can be classified into three types:\n",
    "- Transformation type 01, features in groups ['Type', 'DO', 'Grape']: Selecting distinct values.\n",
    "- Transformation type 02, features in groups ['Sight', 'Smell', 'Taste']: Identifying family of words\n",
    "- Transformation type 03, features in group ['Ageing']: Preprocessing with Excel\n",
    "        "
   ]
  },
  {
   "cell_type": "markdown",
   "metadata": {},
   "source": [
    "### Fill na values and drop duplicates"
   ]
  },
  {
   "cell_type": "markdown",
   "metadata": {},
   "source": [
    "Well, first we fill na values and drop duplicates."
   ]
  },
  {
   "cell_type": "code",
   "execution_count": 282,
   "metadata": {},
   "outputs": [],
   "source": [
    "wines.fillna(value = 'Desconocido', inplace = True)"
   ]
  },
  {
   "cell_type": "code",
   "execution_count": 283,
   "metadata": {},
   "outputs": [
    {
     "name": "stdout",
     "output_type": "stream",
     "text": [
      "(370, 10) (366, 10)\n"
     ]
    }
   ],
   "source": [
    "print(wines.shape,\n",
    "wines.drop_duplicates(['Name', 'Type', 'DO', 'Grape', 'Ageing', 'Sight', 'Smell', 'Taste', 'Pairing']).shape)"
   ]
  },
  {
   "cell_type": "markdown",
   "metadata": {},
   "source": [
    "### Define function FamilyOfWords"
   ]
  },
  {
   "cell_type": "markdown",
   "metadata": {},
   "source": [
    "Define function called FamilyOfWords that we use to transform features in group ['Sight', 'Smell', 'Taste'] (Transformation type 02)."
   ]
  },
  {
   "cell_type": "markdown",
   "metadata": {},
   "source": [
    "This function...\n",
    "- Select features of a group in the dataframe wines.\n",
    "- Build vocabulary with CountVectorizer.\n",
    "(from sklearn.feature_extraction.text import CountVectorizer)\n",
    "- And measures the similarity between words to find words from the same semantic field using fuzz.partial_ratio.\n",
    "(from fuzzywuzzy import fuzz, from fuzzywuzzy import process)"
   ]
  },
  {
   "cell_type": "markdown",
   "metadata": {},
   "source": [
    "Define 'stop' used in the parameter stop_words of CountVectorizer."
   ]
  },
  {
   "cell_type": "code",
   "execution_count": 284,
   "metadata": {},
   "outputs": [
    {
     "name": "stdout",
     "output_type": "stream",
     "text": [
      "['a', 'ante', 'bajo', 'cabe', 'con', 'contra', 'de', 'desde', 'en', 'entre', 'hacia', 'hasta', 'para', 'por', 'según', 'sin', 'sobre', 'tras', 'durante', 'mediante', 'y', 'e', 'o', 'u', 'que', 'del', 'al', 'el', 'la', 'los', 'las', 'un', 'una', 'unos', 'unos', 'es', 'tan', 'gran', 'muy', 'medio', 'media', 'ligero', 'ligera', 'ligeros', 'ligera', 'bien', 'buen', 'bueno', 'buena', 'lleno', 'final', 'tono', 'tonos', 'tonalidad', 'tonalidades', 'matices', 'rico', 'sabor', 'sabores', 'aroma', 'aromas']\n"
     ]
    }
   ],
   "source": [
    "prep = ['a', 'ante', 'bajo', 'cabe', 'con','contra', 'de','desde','en','entre','hacia','hasta','para','por','según','sin','sobre', 'tras', 'durante', 'mediante']\n",
    "nex = ['y', 'e', 'o', 'u', 'que']\n",
    "art = ['del', 'al', 'el', 'la', 'los', 'las', 'un', 'una', 'unos', 'unos']\n",
    "gen = ['es','tan','gran', 'muy','medio', 'media', 'ligero', 'ligera', 'ligeros', 'ligera', 'bien', 'buen','bueno', 'buena', 'lleno','final', 'tono', 'tonos', 'tonalidad', 'tonalidades', 'matices', 'rico','sabor', 'sabores', 'aroma', 'aromas']\n",
    "stop = prep + nex + art + gen\n",
    "print(stop)"
   ]
  },
  {
   "cell_type": "code",
   "execution_count": 285,
   "metadata": {},
   "outputs": [],
   "source": [
    "def FamilyOfWords(Group, f, g):\n",
    "    \"\"\"\n",
    "    Select features of a group in the dataframe wines, build vocabulary and measures the similarity between words to find words from the same semantic field.\n",
    "    \n",
    "    :Group: 'Sight', 'Smell' or 'Taste'\n",
    "    \n",
    "    :f: f is the 'min_df' parameter of 'CountVectorizer' function.\n",
    "    When building the vocabulary ignore terms that have a document frequency strictly lower than the given threshold.\n",
    "    \n",
    "    :g: If two words have a similarity > g, they are put in the same FamilyOfWords. \n",
    "    FuzzyWuzzy is a library of Python which is used for string matching.\n",
    "    The function 'fuzz.partial_ratio' returns the ratio of the most similar substring as a number between 0 and 100.\n",
    "    \n",
    "    \"\"\"\n",
    "    text = wines[Group][:]\n",
    "    vectorizer = CountVectorizer(stop_words=stop,min_df=f) # transformation\n",
    "    vectorizer.fit(text) # tokenizer and build vocabulary\n",
    "    Text = np.array(list(vectorizer.vocabulary_.keys()))\n",
    "    len(Text)\n",
    "    \n",
    "    # load a dataframe with all words and the similarity between all them\n",
    "    words = pd.DataFrame(index= Text, columns=Text)\n",
    "    n = words.shape[0]\n",
    "    for i in range(0,n):\n",
    "        for j in range(0,n):\n",
    "            words.iloc[i,j] = fuzz.partial_ratio(words.columns[i], words.index[j]) #col,row\n",
    "    \n",
    "    # aux is a list of lists, where words in sub-lists has similarity >= g\n",
    "    aux = []\n",
    "    for k in words.index:\n",
    "        if k in words.columns:\n",
    "            l = list(words[words[k]>=g].index)\n",
    "            try:\n",
    "                del words[k]\n",
    "            except:\n",
    "                pass\n",
    "            if len(l) != 1:\n",
    "                for i in range(0,len(l)):\n",
    "                    if l[i] in words.columns:\n",
    "                        m = list(words[words[l[i]]>=g].index)\n",
    "                        if len(m) != 1:\n",
    "                            for j in range(0,len(m)):\n",
    "                                    if m[j] in words.columns:\n",
    "                                        n = list(words[words[m[j]]>=g].index)\n",
    "                                        l = l + n\n",
    "                                        try:\n",
    "                                            del words[m[j]]\n",
    "                                        except:\n",
    "                                            pass\n",
    "                                    else:\n",
    "                                        pass\n",
    "                        l = l + m\n",
    "                        try:\n",
    "                            del words[l[i]]\n",
    "                        except:\n",
    "                            pass                  \n",
    "                    else:\n",
    "                        pass\n",
    "            aux.append(l)\n",
    "        else:\n",
    "            pass\n",
    "        \n",
    "    # drop duplicates in each list: transform to set and to list again\n",
    "    for i in range(0, len(aux)):\n",
    "        aux[i] = list(set(aux[i]))\n",
    "    return aux"
   ]
  },
  {
   "cell_type": "markdown",
   "metadata": {},
   "source": [
    "### Type, DO, Grape\n",
    "Transformation type 01"
   ]
  },
  {
   "cell_type": "code",
   "execution_count": 286,
   "metadata": {},
   "outputs": [],
   "source": [
    "# Type\n",
    "Type =  wines.groupby('Type').sum().index.values\n",
    "\n",
    "# DO\n",
    "DO =  wines.groupby('DO').sum().index.values\n",
    "\n",
    "# Grape\n",
    "text = wines['Grape'][:]\n",
    "text = text.apply(lambda x: re.sub(\",\", \"split\", x))\n",
    "Grape = []\n",
    "for i in range(0, len(text)):\n",
    "    Grape = Grape + text[i].split(\"split\")\n",
    "Grape = np.sort(list(set(Grape))) #drop duplicates"
   ]
  },
  {
   "cell_type": "code",
   "execution_count": 287,
   "metadata": {},
   "outputs": [
    {
     "name": "stdout",
     "output_type": "stream",
     "text": [
      "['Blancos' 'Desconocido' 'Ecológicos' 'Espumosos' 'Generosos' 'Rosados'\n",
      " 'Tintos']\n",
      "['D.O Alella' 'D.O Alicante' 'D.O Almansa' 'D.O Bierzo' 'D.O Bullas']\n",
      "['Airen' 'Albariño' 'Baga' 'Barbera' 'Bobal']\n"
     ]
    }
   ],
   "source": [
    "print(Type[:])\n",
    "print(DO[:5])\n",
    "print(Grape[:5])"
   ]
  },
  {
   "cell_type": "markdown",
   "metadata": {},
   "source": [
    "### Sight, Smell, Taste\n",
    "Transformation type 02"
   ]
  },
  {
   "cell_type": "code",
   "execution_count": 288,
   "metadata": {},
   "outputs": [],
   "source": [
    "# Sight\n",
    "Sight = FamilyOfWords('Sight',2,90)\n",
    "\n",
    "# Smell\n",
    "Smell = FamilyOfWords('Smell', 3,90)\n",
    "\n",
    "# Taste\n",
    "Taste = FamilyOfWords('Taste', 3,85)"
   ]
  },
  {
   "cell_type": "code",
   "execution_count": 289,
   "metadata": {},
   "outputs": [
    {
     "name": "stdout",
     "output_type": "stream",
     "text": [
      "[['cereza'], ['picota'], ['rojo'], ['brillante'], ['evolución'], ['granates', 'granate']]\n",
      "[['frescos', 'fresco'], ['negras', 'negra']]\n",
      "[['tostado'], ['redondos', 'redondo'], ['expresión'], ['tánica']]\n"
     ]
    }
   ],
   "source": [
    "print(Sight[:6])\n",
    "print(Smell[:2])\n",
    "print(Taste[31:35])"
   ]
  },
  {
   "cell_type": "markdown",
   "metadata": {},
   "source": [
    "### Ageing\n",
    "Transformation type 03"
   ]
  },
  {
   "cell_type": "code",
   "execution_count": 290,
   "metadata": {},
   "outputs": [],
   "source": [
    "Ageing_data = pd.read_csv('./Data/Ageing.txt', sep = ';', decimal = ',' ).T\n",
    "Ageing = Ageing_data.index"
   ]
  },
  {
   "cell_type": "code",
   "execution_count": 291,
   "metadata": {},
   "outputs": [
    {
     "name": "stdout",
     "output_type": "stream",
     "text": [
      "Index(['SIN_CRIANZA', 'LIAS', 'BOTAS', 'SOLERAS', 'DIA_ACERO', 'MES_ACERO',\n",
      "       'BARRICA', 'ROBLE', 'AME', 'FRA', 'BOTELLA', 'BAM01', 'BAM02', 'BAM03',\n",
      "       'BAM04', 'BAM05', 'BAM06', 'BAM07', 'BAM08', 'BAM09', 'BAM10', 'BAM11',\n",
      "       'BAM12', 'BAM14', 'BAM18', 'BAM24', 'BAM36', 'BOM01', 'BOM02', 'BOM03',\n",
      "       'BOM04', 'BOM05', 'BOM06', 'BOM07', 'BOM08', 'BOM09', 'BOM10', 'BOM11',\n",
      "       'BOM12', 'BOM14', 'BOM18', 'BOM24', 'BOM36'],\n",
      "      dtype='object')\n"
     ]
    }
   ],
   "source": [
    "print(Ageing)\n",
    "# 'AME' is roble americano, and 'FRA' is roble francés\n",
    "# 'BAMxx' is xx meses en barrica, and 'BOxx' is xx meses in botella"
   ]
  },
  {
   "cell_type": "markdown",
   "metadata": {},
   "source": [
    "### Load the DataFrame 'features'"
   ]
  },
  {
   "cell_type": "code",
   "execution_count": 292,
   "metadata": {},
   "outputs": [],
   "source": [
    "features = pd.DataFrame(columns = ['Group', 'Feature', 'Family_Id', 'Feature_Id'])\n",
    "\n",
    "k = 0\n",
    "l = 0\n",
    "for f in ['Type', 'DO', 'Grape']:\n",
    "    for i in range(0, len(globals()[f])):\n",
    "        features = features.append({'Group': f, 'Feature': globals()[f][i], 'Family_Id': k, 'Feature_Id': k}, ignore_index=True)\n",
    "        k = k + 1\n",
    "\n",
    "for f in ['Sight', 'Smell', 'Taste']:\n",
    "    for i in range(0, len(globals()[f])):\n",
    "        l = k\n",
    "        for j in range(0,len(globals()[f][i])):\n",
    "            features = features.append({'Group': f, 'Feature': globals()[f][i][j], 'Family_Id': l, 'Feature_Id': k}, ignore_index=True)\n",
    "            k = k + 1\n",
    "            \n",
    "for i in range(0, len(Ageing)):\n",
    "    features = features.append({'Group': 'Ageing', 'Feature': Ageing[i], 'Family_Id': k, 'Feature_Id': k}, ignore_index=True)\n",
    "    k = k + 1"
   ]
  },
  {
   "cell_type": "markdown",
   "metadata": {},
   "source": [
    "The DataFrame 'features' has the following columns:\n",
    "- Group\n",
    "- Features\n",
    "- Family_Id\n",
    "- Feature_Id\n",
    "\n",
    "Below, you can see a sample to explain the meaning of each column."
   ]
  },
  {
   "cell_type": "code",
   "execution_count": 293,
   "metadata": {},
   "outputs": [
    {
     "data": {
      "text/html": [
       "<div>\n",
       "<style scoped>\n",
       "    .dataframe tbody tr th:only-of-type {\n",
       "        vertical-align: middle;\n",
       "    }\n",
       "\n",
       "    .dataframe tbody tr th {\n",
       "        vertical-align: top;\n",
       "    }\n",
       "\n",
       "    .dataframe thead th {\n",
       "        text-align: right;\n",
       "    }\n",
       "</style>\n",
       "<table border=\"1\" class=\"dataframe\">\n",
       "  <thead>\n",
       "    <tr style=\"text-align: right;\">\n",
       "      <th></th>\n",
       "      <th>Group</th>\n",
       "      <th>Feature</th>\n",
       "      <th>Family_Id</th>\n",
       "      <th>Feature_Id</th>\n",
       "    </tr>\n",
       "  </thead>\n",
       "  <tbody>\n",
       "    <tr>\n",
       "      <th>220</th>\n",
       "      <td>Smell</td>\n",
       "      <td>vainilla</td>\n",
       "      <td>220</td>\n",
       "      <td>220</td>\n",
       "    </tr>\n",
       "    <tr>\n",
       "      <th>221</th>\n",
       "      <td>Smell</td>\n",
       "      <td>toffee</td>\n",
       "      <td>221</td>\n",
       "      <td>221</td>\n",
       "    </tr>\n",
       "    <tr>\n",
       "      <th>222</th>\n",
       "      <td>Smell</td>\n",
       "      <td>maduras</td>\n",
       "      <td>222</td>\n",
       "      <td>222</td>\n",
       "    </tr>\n",
       "    <tr>\n",
       "      <th>223</th>\n",
       "      <td>Smell</td>\n",
       "      <td>madura</td>\n",
       "      <td>222</td>\n",
       "      <td>223</td>\n",
       "    </tr>\n",
       "    <tr>\n",
       "      <th>224</th>\n",
       "      <td>Smell</td>\n",
       "      <td>notas</td>\n",
       "      <td>224</td>\n",
       "      <td>224</td>\n",
       "    </tr>\n",
       "    <tr>\n",
       "      <th>225</th>\n",
       "      <td>Smell</td>\n",
       "      <td>balsámicas</td>\n",
       "      <td>225</td>\n",
       "      <td>225</td>\n",
       "    </tr>\n",
       "    <tr>\n",
       "      <th>226</th>\n",
       "      <td>Smell</td>\n",
       "      <td>balsámicos</td>\n",
       "      <td>225</td>\n",
       "      <td>226</td>\n",
       "    </tr>\n",
       "    <tr>\n",
       "      <th>227</th>\n",
       "      <td>Smell</td>\n",
       "      <td>ciruelas</td>\n",
       "      <td>227</td>\n",
       "      <td>227</td>\n",
       "    </tr>\n",
       "    <tr>\n",
       "      <th>228</th>\n",
       "      <td>Smell</td>\n",
       "      <td>ciruela</td>\n",
       "      <td>227</td>\n",
       "      <td>228</td>\n",
       "    </tr>\n",
       "    <tr>\n",
       "      <th>229</th>\n",
       "      <td>Smell</td>\n",
       "      <td>flor</td>\n",
       "      <td>229</td>\n",
       "      <td>229</td>\n",
       "    </tr>\n",
       "    <tr>\n",
       "      <th>230</th>\n",
       "      <td>Smell</td>\n",
       "      <td>floral</td>\n",
       "      <td>229</td>\n",
       "      <td>230</td>\n",
       "    </tr>\n",
       "  </tbody>\n",
       "</table>\n",
       "</div>"
      ],
      "text/plain": [
       "     Group     Feature Family_Id Feature_Id\n",
       "220  Smell    vainilla       220        220\n",
       "221  Smell      toffee       221        221\n",
       "222  Smell     maduras       222        222\n",
       "223  Smell      madura       222        223\n",
       "224  Smell       notas       224        224\n",
       "225  Smell  balsámicas       225        225\n",
       "226  Smell  balsámicos       225        226\n",
       "227  Smell    ciruelas       227        227\n",
       "228  Smell     ciruela       227        228\n",
       "229  Smell        flor       229        229\n",
       "230  Smell      floral       229        230"
      ]
     },
     "execution_count": 293,
     "metadata": {},
     "output_type": "execute_result"
    }
   ],
   "source": [
    "features[220:231]"
   ]
  },
  {
   "cell_type": "markdown",
   "metadata": {},
   "source": [
    "### Dictionaries"
   ]
  },
  {
   "cell_type": "markdown",
   "metadata": {},
   "source": [
    "Define some dictionaries to make easy the work."
   ]
  },
  {
   "cell_type": "markdown",
   "metadata": {},
   "source": [
    "#### Feature_to_Id  //  Id_to_Feature"
   ]
  },
  {
   "cell_type": "code",
   "execution_count": 294,
   "metadata": {},
   "outputs": [],
   "source": [
    "Feature_to_Id = features.set_index('Feature')['Feature_Id'].to_dict()\n",
    "Id_to_Feature = features.set_index('Feature_Id')['Feature'].to_dict()"
   ]
  },
  {
   "cell_type": "markdown",
   "metadata": {},
   "source": [
    "#### Id_to_Wine"
   ]
  },
  {
   "cell_type": "code",
   "execution_count": 295,
   "metadata": {},
   "outputs": [],
   "source": [
    "Id_to_Wine = wines.set_index('Wine_Id')['Name'].to_dict()"
   ]
  },
  {
   "cell_type": "markdown",
   "metadata": {},
   "source": [
    "#### Feature_to_N  //  Family_to_N"
   ]
  },
  {
   "cell_type": "code",
   "execution_count": 296,
   "metadata": {},
   "outputs": [],
   "source": [
    "# returns the number N of different features in each group\n",
    "Feature_to_N = features.groupby(by=('Group', 'Feature_Id')).count().groupby(by='Group').count()['Feature'].to_dict()\n",
    "\n",
    "# returns the number N of different families in each group\n",
    "Family_to_N = features.groupby(by=('Group', 'Family_Id')).count().groupby(by='Group').count()['Feature'].to_dict()"
   ]
  },
  {
   "cell_type": "markdown",
   "metadata": {},
   "source": [
    "You can check how the value returned in Feature_to_N is equal to the value Family_to_N in the groups: Type, DO, Grape, Ageing."
   ]
  },
  {
   "cell_type": "markdown",
   "metadata": {},
   "source": [
    "However, it is not equal in the groups: Sight, Smell, Taste. Because the function FamilyOfWords was used."
   ]
  },
  {
   "cell_type": "markdown",
   "metadata": {},
   "source": [
    "#### Family_to_Weight"
   ]
  },
  {
   "cell_type": "markdown",
   "metadata": {},
   "source": [
    "Although finally this is not used, it is considered to associate weights to the families."
   ]
  },
  {
   "cell_type": "code",
   "execution_count": 297,
   "metadata": {},
   "outputs": [],
   "source": [
    "Family_to_Weight = {'Type': 100/Family_to_N['Type'],\n",
    "                    'DO': 100/Family_to_N['DO'],\n",
    "                    'Grape': 100/Family_to_N['Grape'],\n",
    "                    'Sight': 100/Family_to_N['Sight'],\n",
    "                    'Smell': 100/Family_to_N['Smell'],\n",
    "                    'Taste': 100/Family_to_N['Taste'],\n",
    "                    'Ageing': 100/Family_to_N['Ageing']}\n",
    "Family_to_Weight = {'Type': 1,'DO': 1,'Grape': 1,'Sight': 1,'Smell': 1,'Taste': 1,'Ageing': 1}"
   ]
  },
  {
   "cell_type": "markdown",
   "metadata": {},
   "source": [
    "### Load the DataFrame 'wines_features'"
   ]
  },
  {
   "cell_type": "code",
   "execution_count": 298,
   "metadata": {},
   "outputs": [],
   "source": [
    "wines_features = pd.DataFrame(columns=wines['Wine_Id'])\n",
    "s = 0\n",
    "for f in ['Type','DO','Grape','Sight','Smell','Taste']:\n",
    "    for i in range(s, s + Feature_to_N[f]):\n",
    "        wines_features = wines_features.append(wines[[f]].applymap(lambda x: Family_to_Weight[f]*int(Id_to_Feature[i].lower() in str(x).lower())).T, ignore_index = True)\n",
    "        s = i + 1\n",
    "        \n",
    "for f in ['Ageing']:\n",
    "    wines_features = wines_features.append(Ageing_data.applymap(lambda x: Family_to_Weight[f]*x), ignore_index = True)"
   ]
  },
  {
   "cell_type": "code",
   "execution_count": 299,
   "metadata": {},
   "outputs": [
    {
     "data": {
      "text/html": [
       "<div>\n",
       "<style scoped>\n",
       "    .dataframe tbody tr th:only-of-type {\n",
       "        vertical-align: middle;\n",
       "    }\n",
       "\n",
       "    .dataframe tbody tr th {\n",
       "        vertical-align: top;\n",
       "    }\n",
       "\n",
       "    .dataframe thead th {\n",
       "        text-align: right;\n",
       "    }\n",
       "</style>\n",
       "<table border=\"1\" class=\"dataframe\">\n",
       "  <thead>\n",
       "    <tr style=\"text-align: right;\">\n",
       "      <th></th>\n",
       "      <th>0</th>\n",
       "      <th>1</th>\n",
       "      <th>2</th>\n",
       "      <th>3</th>\n",
       "      <th>4</th>\n",
       "      <th>5</th>\n",
       "      <th>6</th>\n",
       "      <th>7</th>\n",
       "      <th>8</th>\n",
       "      <th>9</th>\n",
       "      <th>...</th>\n",
       "      <th>360</th>\n",
       "      <th>361</th>\n",
       "      <th>362</th>\n",
       "      <th>363</th>\n",
       "      <th>364</th>\n",
       "      <th>365</th>\n",
       "      <th>366</th>\n",
       "      <th>367</th>\n",
       "      <th>368</th>\n",
       "      <th>369</th>\n",
       "    </tr>\n",
       "  </thead>\n",
       "  <tbody>\n",
       "    <tr>\n",
       "      <th>0</th>\n",
       "      <td>0</td>\n",
       "      <td>0</td>\n",
       "      <td>0</td>\n",
       "      <td>0</td>\n",
       "      <td>0</td>\n",
       "      <td>0</td>\n",
       "      <td>0</td>\n",
       "      <td>0</td>\n",
       "      <td>0</td>\n",
       "      <td>0</td>\n",
       "      <td>...</td>\n",
       "      <td>1</td>\n",
       "      <td>0</td>\n",
       "      <td>0</td>\n",
       "      <td>1</td>\n",
       "      <td>0</td>\n",
       "      <td>0</td>\n",
       "      <td>0</td>\n",
       "      <td>1</td>\n",
       "      <td>0</td>\n",
       "      <td>0</td>\n",
       "    </tr>\n",
       "    <tr>\n",
       "      <th>1</th>\n",
       "      <td>0</td>\n",
       "      <td>0</td>\n",
       "      <td>0</td>\n",
       "      <td>0</td>\n",
       "      <td>0</td>\n",
       "      <td>0</td>\n",
       "      <td>0</td>\n",
       "      <td>0</td>\n",
       "      <td>0</td>\n",
       "      <td>0</td>\n",
       "      <td>...</td>\n",
       "      <td>0</td>\n",
       "      <td>0</td>\n",
       "      <td>0</td>\n",
       "      <td>0</td>\n",
       "      <td>0</td>\n",
       "      <td>0</td>\n",
       "      <td>0</td>\n",
       "      <td>0</td>\n",
       "      <td>0</td>\n",
       "      <td>0</td>\n",
       "    </tr>\n",
       "    <tr>\n",
       "      <th>2</th>\n",
       "      <td>0</td>\n",
       "      <td>0</td>\n",
       "      <td>0</td>\n",
       "      <td>0</td>\n",
       "      <td>0</td>\n",
       "      <td>0</td>\n",
       "      <td>0</td>\n",
       "      <td>0</td>\n",
       "      <td>0</td>\n",
       "      <td>0</td>\n",
       "      <td>...</td>\n",
       "      <td>0</td>\n",
       "      <td>0</td>\n",
       "      <td>0</td>\n",
       "      <td>0</td>\n",
       "      <td>0</td>\n",
       "      <td>0</td>\n",
       "      <td>0</td>\n",
       "      <td>0</td>\n",
       "      <td>1</td>\n",
       "      <td>0</td>\n",
       "    </tr>\n",
       "  </tbody>\n",
       "</table>\n",
       "<p>3 rows × 370 columns</p>\n",
       "</div>"
      ],
      "text/plain": [
       "  0   1   2   3   4   5   6   7   8   9   ... 360 361 362 363 364 365 366 367  \\\n",
       "0   0   0   0   0   0   0   0   0   0   0 ...   1   0   0   1   0   0   0   1   \n",
       "1   0   0   0   0   0   0   0   0   0   0 ...   0   0   0   0   0   0   0   0   \n",
       "2   0   0   0   0   0   0   0   0   0   0 ...   0   0   0   0   0   0   0   0   \n",
       "\n",
       "  368 369  \n",
       "0   0   0  \n",
       "1   0   0  \n",
       "2   1   0  \n",
       "\n",
       "[3 rows x 370 columns]"
      ]
     },
     "execution_count": 299,
     "metadata": {},
     "output_type": "execute_result"
    }
   ],
   "source": [
    "wines_features.head(3)"
   ]
  },
  {
   "cell_type": "markdown",
   "metadata": {},
   "source": [
    "### Load the DataFrame 'wines_families'"
   ]
  },
  {
   "cell_type": "code",
   "execution_count": 300,
   "metadata": {},
   "outputs": [],
   "source": [
    "wines_families = pd.merge(wines_features, pd.DataFrame(features['Family_Id']), how='inner', left_index=True, right_index=True).groupby(by='Family_Id').sum()"
   ]
  },
  {
   "cell_type": "markdown",
   "metadata": {},
   "source": [
    "Here the 'Preparation Data' phase. We have a dataframe with all the wines in columns, and all the properties (called families) in rows."
   ]
  },
  {
   "cell_type": "code",
   "execution_count": 301,
   "metadata": {},
   "outputs": [
    {
     "data": {
      "text/html": [
       "<div>\n",
       "<style scoped>\n",
       "    .dataframe tbody tr th:only-of-type {\n",
       "        vertical-align: middle;\n",
       "    }\n",
       "\n",
       "    .dataframe tbody tr th {\n",
       "        vertical-align: top;\n",
       "    }\n",
       "\n",
       "    .dataframe thead th {\n",
       "        text-align: right;\n",
       "    }\n",
       "</style>\n",
       "<table border=\"1\" class=\"dataframe\">\n",
       "  <thead>\n",
       "    <tr style=\"text-align: right;\">\n",
       "      <th></th>\n",
       "      <th>0</th>\n",
       "      <th>1</th>\n",
       "      <th>2</th>\n",
       "      <th>3</th>\n",
       "      <th>4</th>\n",
       "      <th>5</th>\n",
       "      <th>6</th>\n",
       "      <th>7</th>\n",
       "      <th>8</th>\n",
       "      <th>9</th>\n",
       "      <th>...</th>\n",
       "      <th>360</th>\n",
       "      <th>361</th>\n",
       "      <th>362</th>\n",
       "      <th>363</th>\n",
       "      <th>364</th>\n",
       "      <th>365</th>\n",
       "      <th>366</th>\n",
       "      <th>367</th>\n",
       "      <th>368</th>\n",
       "      <th>369</th>\n",
       "    </tr>\n",
       "    <tr>\n",
       "      <th>Family_Id</th>\n",
       "      <th></th>\n",
       "      <th></th>\n",
       "      <th></th>\n",
       "      <th></th>\n",
       "      <th></th>\n",
       "      <th></th>\n",
       "      <th></th>\n",
       "      <th></th>\n",
       "      <th></th>\n",
       "      <th></th>\n",
       "      <th></th>\n",
       "      <th></th>\n",
       "      <th></th>\n",
       "      <th></th>\n",
       "      <th></th>\n",
       "      <th></th>\n",
       "      <th></th>\n",
       "      <th></th>\n",
       "      <th></th>\n",
       "      <th></th>\n",
       "      <th></th>\n",
       "    </tr>\n",
       "  </thead>\n",
       "  <tbody>\n",
       "    <tr>\n",
       "      <th>0</th>\n",
       "      <td>0.0</td>\n",
       "      <td>0.0</td>\n",
       "      <td>0.0</td>\n",
       "      <td>0.0</td>\n",
       "      <td>0.0</td>\n",
       "      <td>0.0</td>\n",
       "      <td>0.0</td>\n",
       "      <td>0.0</td>\n",
       "      <td>0.0</td>\n",
       "      <td>0.0</td>\n",
       "      <td>...</td>\n",
       "      <td>1.0</td>\n",
       "      <td>0.0</td>\n",
       "      <td>0.0</td>\n",
       "      <td>1.0</td>\n",
       "      <td>0.0</td>\n",
       "      <td>0.0</td>\n",
       "      <td>0</td>\n",
       "      <td>1</td>\n",
       "      <td>0</td>\n",
       "      <td>0</td>\n",
       "    </tr>\n",
       "    <tr>\n",
       "      <th>1</th>\n",
       "      <td>0.0</td>\n",
       "      <td>0.0</td>\n",
       "      <td>0.0</td>\n",
       "      <td>0.0</td>\n",
       "      <td>0.0</td>\n",
       "      <td>0.0</td>\n",
       "      <td>0.0</td>\n",
       "      <td>0.0</td>\n",
       "      <td>0.0</td>\n",
       "      <td>0.0</td>\n",
       "      <td>...</td>\n",
       "      <td>0.0</td>\n",
       "      <td>0.0</td>\n",
       "      <td>0.0</td>\n",
       "      <td>0.0</td>\n",
       "      <td>0.0</td>\n",
       "      <td>0.0</td>\n",
       "      <td>0</td>\n",
       "      <td>0</td>\n",
       "      <td>0</td>\n",
       "      <td>0</td>\n",
       "    </tr>\n",
       "    <tr>\n",
       "      <th>2</th>\n",
       "      <td>0.0</td>\n",
       "      <td>0.0</td>\n",
       "      <td>0.0</td>\n",
       "      <td>0.0</td>\n",
       "      <td>0.0</td>\n",
       "      <td>0.0</td>\n",
       "      <td>0.0</td>\n",
       "      <td>0.0</td>\n",
       "      <td>0.0</td>\n",
       "      <td>0.0</td>\n",
       "      <td>...</td>\n",
       "      <td>0.0</td>\n",
       "      <td>0.0</td>\n",
       "      <td>0.0</td>\n",
       "      <td>0.0</td>\n",
       "      <td>0.0</td>\n",
       "      <td>0.0</td>\n",
       "      <td>0</td>\n",
       "      <td>0</td>\n",
       "      <td>1</td>\n",
       "      <td>0</td>\n",
       "    </tr>\n",
       "  </tbody>\n",
       "</table>\n",
       "<p>3 rows × 370 columns</p>\n",
       "</div>"
      ],
      "text/plain": [
       "           0    1    2    3    4    5    6    7    8    9   ...   360  361  \\\n",
       "Family_Id                                                   ...              \n",
       "0          0.0  0.0  0.0  0.0  0.0  0.0  0.0  0.0  0.0  0.0 ...   1.0  0.0   \n",
       "1          0.0  0.0  0.0  0.0  0.0  0.0  0.0  0.0  0.0  0.0 ...   0.0  0.0   \n",
       "2          0.0  0.0  0.0  0.0  0.0  0.0  0.0  0.0  0.0  0.0 ...   0.0  0.0   \n",
       "\n",
       "           362  363  364  365  366  367  368  369  \n",
       "Family_Id                                          \n",
       "0          0.0  1.0  0.0  0.0    0    1    0    0  \n",
       "1          0.0  0.0  0.0  0.0    0    0    0    0  \n",
       "2          0.0  0.0  0.0  0.0    0    0    1    0  \n",
       "\n",
       "[3 rows x 370 columns]"
      ]
     },
     "execution_count": 301,
     "metadata": {},
     "output_type": "execute_result"
    }
   ],
   "source": [
    "wines_families.head(3)"
   ]
  },
  {
   "cell_type": "code",
   "execution_count": 302,
   "metadata": {},
   "outputs": [],
   "source": [
    "wines_families.to_csv('./Data/Wines_Families.csv', index=False)"
   ]
  },
  {
   "cell_type": "markdown",
   "metadata": {},
   "source": [
    "## 5. Modeling"
   ]
  },
  {
   "cell_type": "markdown",
   "metadata": {},
   "source": [
    "Based on the 'Collaborative filtering' model we learned in class, I have done a 'Content-based' model."
   ]
  },
  {
   "cell_type": "markdown",
   "metadata": {},
   "source": [
    "In this model, properties are used to find similar wines (as in class, users were used to find similar films)."
   ]
  },
  {
   "cell_type": "markdown",
   "metadata": {},
   "source": [
    "### Load the DataFrame 'coocc'"
   ]
  },
  {
   "cell_type": "code",
   "execution_count": 303,
   "metadata": {},
   "outputs": [],
   "source": [
    "coocc = wines_families.T.dot(wines_families)\n",
    "coocc = coocc.applymap(lambda x: round(x))\n",
    "np.fill_diagonal(coocc.values, 0)"
   ]
  },
  {
   "cell_type": "markdown",
   "metadata": {},
   "source": [
    "#### Export and import"
   ]
  },
  {
   "cell_type": "code",
   "execution_count": 304,
   "metadata": {},
   "outputs": [],
   "source": [
    "coocc.to_csv('./Data/Coocc.csv', index=False)\n",
    "coocc = pd.read_csv('/home/dsc/Repos/TFM/Data/Coocc.csv')"
   ]
  },
  {
   "cell_type": "markdown",
   "metadata": {},
   "source": [
    "#### Visualize"
   ]
  },
  {
   "cell_type": "code",
   "execution_count": 305,
   "metadata": {},
   "outputs": [
    {
     "data": {
      "image/png": "[encoded data removed]",
      "text/plain": [
       "<Figure size 1332x756 with 1 Axes>"
      ]
     },
     "metadata": {},
     "output_type": "display_data"
    }
   ],
   "source": [
    "plt.matshow(coocc, fignum=1000, cmap=plt.cm.binary)\n",
    "plt.gcf().set_size_inches(18.5, 10.5)\n",
    "plt.show()"
   ]
  },
  {
   "cell_type": "markdown",
   "metadata": {},
   "source": [
    "### Similarity function"
   ]
  },
  {
   "cell_type": "code",
   "execution_count": 306,
   "metadata": {},
   "outputs": [],
   "source": [
    "def co_occurrance_similarity(Wine_Id, coocurrance, ntop=10):\n",
    "    \"\"\"\n",
    "    Returns the top-N most similar wines to a given one, based on the coocurrance matrix\n",
    "    \n",
    "    :param Wine_Id: id of input wine\n",
    "    :param cooccurrance: co-occurance matrix\n",
    "    :param ntop: number of wines to be retrieved\n",
    "    \n",
    "    :return top-N most similar wines to the given Wine_Id\n",
    "    \"\"\"\n",
    "    coocurrance = coocurrance.sort_values(by = str(Wine_Id))\n",
    "    similarwines = coocurrance[Wine_Id:][::-1]\n",
    "    df = pd.DataFrame()\n",
    "    df['Wine_Id'] = similarwines.iloc[0:ntop][str(Wine_Id)].index\n",
    "    df['Value'] = similarwines.iloc[0:ntop][str(Wine_Id)].values\n",
    "    df.sort_values(by='Value', ascending=False, inplace=True)\n",
    "    return np.array(df)"
   ]
  },
  {
   "cell_type": "code",
   "execution_count": 307,
   "metadata": {},
   "outputs": [
    {
     "data": {
      "text/plain": [
       "array([[ 5, 20],\n",
       "       [98, 18],\n",
       "       [38, 16],\n",
       "       [72, 16],\n",
       "       [92, 15]])"
      ]
     },
     "execution_count": 307,
     "metadata": {},
     "output_type": "execute_result"
    }
   ],
   "source": [
    "co_occurrance_similarity(150,coocc,5)"
   ]
  },
  {
   "cell_type": "markdown",
   "metadata": {},
   "source": [
    "### Recommendation function"
   ]
  },
  {
   "cell_type": "code",
   "execution_count": 308,
   "metadata": {},
   "outputs": [],
   "source": [
    "def co_occurrance_recommendation(items_id, cooccurrance, ntop=5):\n",
    "    \"\"\"\n",
    "    Obtain the list of ntop recommendations based on a list of wines\n",
    "    \n",
    "    :param items_id: list of wines ids\n",
    "    :param coocurrence: co-ocurrence matrix\n",
    "    :param ntop: top-K wines to be retrieved\n",
    "    \n",
    "    :return list of ntop wines recommended\n",
    "    \"\"\"\n",
    "    # another (row wise)\n",
    "    list_sim_items = np.vstack([co_occurrance_similarity(id_, cooccurrance, ntop*10) for id_ in items_id])\n",
    "    # Group by id and take the maximum frequency to remove duplicates\n",
    "    largest_freq = pd.DataFrame(list_sim_items, columns=['id', 'freq']).groupby('id').agg(max).reset_index()\n",
    "    # remove wines itself\n",
    "    largest_freq = largest_freq[~largest_freq['id'].isin(items_id)] \n",
    "    # sort by value in descending order\n",
    "    sorted_list = largest_freq.sort_values(by='freq', ascending=False)\n",
    "    # get the top N\n",
    "    out = sorted_list.values[:ntop, 0]\n",
    "    return out"
   ]
  },
  {
   "cell_type": "code",
   "execution_count": 309,
   "metadata": {},
   "outputs": [
    {
     "data": {
      "text/plain": [
       "array([ 98,  51, 131, 112,  88])"
      ]
     },
     "execution_count": 309,
     "metadata": {},
     "output_type": "execute_result"
    }
   ],
   "source": [
    "co_occurrance_recommendation([150,5], coocc, 5)"
   ]
  },
  {
   "cell_type": "code",
   "execution_count": 310,
   "metadata": {},
   "outputs": [
    {
     "data": {
      "text/html": [
       "<div>\n",
       "<style scoped>\n",
       "    .dataframe tbody tr th:only-of-type {\n",
       "        vertical-align: middle;\n",
       "    }\n",
       "\n",
       "    .dataframe tbody tr th {\n",
       "        vertical-align: top;\n",
       "    }\n",
       "\n",
       "    .dataframe thead th {\n",
       "        text-align: right;\n",
       "    }\n",
       "</style>\n",
       "<table border=\"1\" class=\"dataframe\">\n",
       "  <thead>\n",
       "    <tr style=\"text-align: right;\">\n",
       "      <th></th>\n",
       "      <th>Wine_Id</th>\n",
       "      <th>Name</th>\n",
       "      <th>Type</th>\n",
       "      <th>DO</th>\n",
       "      <th>Grape</th>\n",
       "      <th>Ageing</th>\n",
       "      <th>Sight</th>\n",
       "      <th>Smell</th>\n",
       "      <th>Taste</th>\n",
       "      <th>Pairing</th>\n",
       "    </tr>\n",
       "  </thead>\n",
       "  <tbody>\n",
       "    <tr>\n",
       "      <th>5</th>\n",
       "      <td>5</td>\n",
       "      <td>Vino Reina Elionor</td>\n",
       "      <td>Tintos</td>\n",
       "      <td>D.O Terra Alta</td>\n",
       "      <td>Mazuelo,Tempranillo,Garnacha</td>\n",
       "      <td>12 meses en barrica de roble</td>\n",
       "      <td>Rojo rubí intenso</td>\n",
       "      <td>Frutas rojas maduras, confituras y notas balsá...</td>\n",
       "      <td>Armonioso, intenso, equilibrado con postgusto ...</td>\n",
       "      <td>Carnes, quesos</td>\n",
       "    </tr>\n",
       "    <tr>\n",
       "      <th>150</th>\n",
       "      <td>150</td>\n",
       "      <td>Vino Roureda</td>\n",
       "      <td>Tintos</td>\n",
       "      <td>D.O Tarragona</td>\n",
       "      <td>Mazuelo,Tempranillo,Garnacha</td>\n",
       "      <td>12 meses en barrica de roble</td>\n",
       "      <td>Rojo rubí</td>\n",
       "      <td>Frutas maduras y notas especiadas</td>\n",
       "      <td>Suave, equilibrado y potente</td>\n",
       "      <td>Carnes rojas, caza, guisos, quesos</td>\n",
       "    </tr>\n",
       "    <tr>\n",
       "      <th>51</th>\n",
       "      <td>51</td>\n",
       "      <td>Vino Melior</td>\n",
       "      <td>Tintos</td>\n",
       "      <td>D.O Ribera del Duero</td>\n",
       "      <td>Tempranillo</td>\n",
       "      <td>6 meses en barrica</td>\n",
       "      <td>Cardenal oscuro con ribete morado</td>\n",
       "      <td>Frutas rojas maduras, regaliz, café y vainilla</td>\n",
       "      <td>Fresco, intenso y voluminoso</td>\n",
       "      <td>Carnes blancas, asados, legumbres y quesos de ...</td>\n",
       "    </tr>\n",
       "    <tr>\n",
       "      <th>88</th>\n",
       "      <td>88</td>\n",
       "      <td>Vino Gran Castillo</td>\n",
       "      <td>Tintos</td>\n",
       "      <td>D.O Utiel-Requena</td>\n",
       "      <td>Bobal</td>\n",
       "      <td>Sin crianza</td>\n",
       "      <td>Rojo rubí intenso con reflejos violáceos</td>\n",
       "      <td>Frutas roja maduras</td>\n",
       "      <td>Fresco, equilibrado y con buen paso por boca</td>\n",
       "      <td>Carnes a la plancha, pescados en salsa, arroce...</td>\n",
       "    </tr>\n",
       "    <tr>\n",
       "      <th>98</th>\n",
       "      <td>98</td>\n",
       "      <td>Tinto selección Marqués del Atrio</td>\n",
       "      <td>Tintos</td>\n",
       "      <td>D.O Rioja</td>\n",
       "      <td>Tempranillo,Graciano</td>\n",
       "      <td>6 meses en barrica de roble americano y uno, d...</td>\n",
       "      <td>Rojo rubí brillante de intensidad media-alta</td>\n",
       "      <td>Aromas a frutas rojas maduras con elegantes to...</td>\n",
       "      <td>Equilibrado en boca con un largo y elegante po...</td>\n",
       "      <td>Ideal para todas clases de carnes, pastas, tap...</td>\n",
       "    </tr>\n",
       "    <tr>\n",
       "      <th>112</th>\n",
       "      <td>112</td>\n",
       "      <td>Con un par</td>\n",
       "      <td>Tintos</td>\n",
       "      <td>D.O Valencia</td>\n",
       "      <td>Monastrell,Petit verdot</td>\n",
       "      <td>Sin crianza</td>\n",
       "      <td>Rojo amoratado vivo y brillante</td>\n",
       "      <td>Aromas a frutas rojas confitadas y toques de e...</td>\n",
       "      <td>Potente y de gran personalidad. Bien estructur...</td>\n",
       "      <td>Arroces, pastas, verduras, pollo, carnes rojas...</td>\n",
       "    </tr>\n",
       "    <tr>\n",
       "      <th>131</th>\n",
       "      <td>131</td>\n",
       "      <td>Vino Lagunilla</td>\n",
       "      <td>Tintos</td>\n",
       "      <td>D.O Rioja</td>\n",
       "      <td>Tempranillo,Garnacha</td>\n",
       "      <td>12 meses en depósito para su estabilización, l...</td>\n",
       "      <td>Cereza oscuro</td>\n",
       "      <td>Aromas terrosos, frutas rojas y especias</td>\n",
       "      <td>Redondo y potente con postgusto persistente</td>\n",
       "      <td>Asados, ternera, cordero, caza, pastas y salsa...</td>\n",
       "    </tr>\n",
       "  </tbody>\n",
       "</table>\n",
       "</div>"
      ],
      "text/plain": [
       "     Wine_Id                               Name    Type                    DO  \\\n",
       "5          5                Vino Reina Elionor   Tintos        D.O Terra Alta   \n",
       "150      150                       Vino Roureda  Tintos         D.O Tarragona   \n",
       "51        51                        Vino Melior  Tintos  D.O Ribera del Duero   \n",
       "88        88                 Vino Gran Castillo  Tintos     D.O Utiel-Requena   \n",
       "98        98  Tinto selección Marqués del Atrio  Tintos             D.O Rioja   \n",
       "112      112                         Con un par  Tintos          D.O Valencia   \n",
       "131      131                     Vino Lagunilla  Tintos             D.O Rioja   \n",
       "\n",
       "                            Grape  \\\n",
       "5    Mazuelo,Tempranillo,Garnacha   \n",
       "150  Mazuelo,Tempranillo,Garnacha   \n",
       "51                    Tempranillo   \n",
       "88                          Bobal   \n",
       "98           Tempranillo,Graciano   \n",
       "112       Monastrell,Petit verdot   \n",
       "131          Tempranillo,Garnacha   \n",
       "\n",
       "                                                Ageing  \\\n",
       "5                         12 meses en barrica de roble   \n",
       "150                  12 meses en barrica de roble        \n",
       "51                                 6 meses en barrica    \n",
       "88                                         Sin crianza   \n",
       "98   6 meses en barrica de roble americano y uno, d...   \n",
       "112                                        Sin crianza   \n",
       "131  12 meses en depósito para su estabilización, l...   \n",
       "\n",
       "                                            Sight  \\\n",
       "5                               Rojo rubí intenso   \n",
       "150                                     Rojo rubí   \n",
       "51              Cardenal oscuro con ribete morado   \n",
       "88       Rojo rubí intenso con reflejos violáceos   \n",
       "98   Rojo rubí brillante de intensidad media-alta   \n",
       "112               Rojo amoratado vivo y brillante   \n",
       "131                                 Cereza oscuro   \n",
       "\n",
       "                                                 Smell  \\\n",
       "5    Frutas rojas maduras, confituras y notas balsá...   \n",
       "150                  Frutas maduras y notas especiadas   \n",
       "51      Frutas rojas maduras, regaliz, café y vainilla   \n",
       "88                                 Frutas roja maduras   \n",
       "98   Aromas a frutas rojas maduras con elegantes to...   \n",
       "112  Aromas a frutas rojas confitadas y toques de e...   \n",
       "131           Aromas terrosos, frutas rojas y especias   \n",
       "\n",
       "                                                 Taste  \\\n",
       "5    Armonioso, intenso, equilibrado con postgusto ...   \n",
       "150                       Suave, equilibrado y potente   \n",
       "51                        Fresco, intenso y voluminoso   \n",
       "88        Fresco, equilibrado y con buen paso por boca   \n",
       "98   Equilibrado en boca con un largo y elegante po...   \n",
       "112  Potente y de gran personalidad. Bien estructur...   \n",
       "131        Redondo y potente con postgusto persistente   \n",
       "\n",
       "                                               Pairing  \n",
       "5                                       Carnes, quesos  \n",
       "150                 Carnes rojas, caza, guisos, quesos  \n",
       "51   Carnes blancas, asados, legumbres y quesos de ...  \n",
       "88   Carnes a la plancha, pescados en salsa, arroce...  \n",
       "98   Ideal para todas clases de carnes, pastas, tap...  \n",
       "112  Arroces, pastas, verduras, pollo, carnes rojas...  \n",
       "131  Asados, ternera, cordero, caza, pastas y salsa...  "
      ]
     },
     "execution_count": 310,
     "metadata": {},
     "output_type": "execute_result"
    }
   ],
   "source": [
    "a = [150,5]\n",
    "b = list(co_occurrance_recommendation(a,coocc,5))\n",
    "wines[wines['Wine_Id'].isin(a)].append(wines[wines['Wine_Id'].isin(b)])"
   ]
  }
 ],
 "metadata": {
  "kernelspec": {
   "display_name": "Python 3",
   "language": "python",
   "name": "python3"
  },
  "language_info": {
   "codemirror_mode": {
    "name": "ipython",
    "version": 3
   },
   "file_extension": ".py",
   "mimetype": "text/x-python",
   "name": "python",
   "nbconvert_exporter": "python",
   "pygments_lexer": "ipython3",
   "version": "3.6.8"
  }
 },
 "nbformat": 4,
 "nbformat_minor": 2
}
